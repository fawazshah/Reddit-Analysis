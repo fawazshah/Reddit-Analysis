{
  "nbformat": 4,
  "nbformat_minor": 0,
  "metadata": {
    "colab": {
      "name": "5_direct_transfer.ipynb",
      "provenance": [],
      "authorship_tag": "ABX9TyNdjCEZJzaT7Esu2N9KGa0U",
      "include_colab_link": true
    },
    "kernelspec": {
      "name": "python3",
      "display_name": "Python 3"
    },
    "language_info": {
      "name": "python"
    }
  },
  "cells": [
    {
      "cell_type": "markdown",
      "metadata": {
        "id": "view-in-github",
        "colab_type": "text"
      },
      "source": [
        "<a href=\"https://colab.research.google.com/github/fawazshah/Reddit-Analysis/blob/main/5_direct_transfer.ipynb\" target=\"_parent\"><img src=\"https://colab.research.google.com/assets/colab-badge.svg\" alt=\"Open In Colab\"/></a>"
      ]
    },
    {
      "cell_type": "code",
      "metadata": {
        "id": "_MYNYLDSz3nw"
      },
      "source": [
        "import pandas as pd"
      ],
      "execution_count": 1,
      "outputs": []
    },
    {
      "cell_type": "markdown",
      "metadata": {
        "id": "ABBttHU80AyR"
      },
      "source": [
        "### Loading data"
      ]
    },
    {
      "cell_type": "code",
      "metadata": {
        "id": "rAFuwYtc0Ewr"
      },
      "source": [
        "submissions_url = 'https://raw.githubusercontent.com/fawazshah/Reddit-Analysis/master/data/collated-data/submissions_preprocessed.tsv'\n",
        "submissions_df = pd.read_csv(submissions_url, sep='\\t')\n",
        "\n",
        "comments_url = 'https://raw.githubusercontent.com/fawazshah/Reddit-Analysis/master/data/collated-data/comments_preprocessed.tsv'\n",
        "comments_df = pd.read_csv(comments_url, sep='\\t')"
      ],
      "execution_count": 2,
      "outputs": []
    },
    {
      "cell_type": "code",
      "metadata": {
        "colab": {
          "base_uri": "https://localhost:8080/"
        },
        "id": "RnI9nKnd0GTu",
        "outputId": "0708c750-9ee6-40c2-a787-a450655b86bb"
      },
      "source": [
        "print(f\"No. submissions: {len(submissions_df)}\")\n",
        "print(f\"No. comments: {len(comments_df)}\")"
      ],
      "execution_count": 3,
      "outputs": [
        {
          "output_type": "stream",
          "text": [
            "No. submissions: 807\n",
            "No. comments: 11954\n"
          ],
          "name": "stdout"
        }
      ]
    },
    {
      "cell_type": "markdown",
      "metadata": {
        "id": "BybyRG0v5E4b"
      },
      "source": [
        "### Direct transfer"
      ]
    },
    {
      "cell_type": "code",
      "metadata": {
        "id": "q8myfRK95Dh9"
      },
      "source": [
        ""
      ],
      "execution_count": null,
      "outputs": []
    }
  ]
}