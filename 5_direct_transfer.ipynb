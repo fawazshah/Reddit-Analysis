{
  "nbformat": 4,
  "nbformat_minor": 0,
  "metadata": {
    "colab": {
      "name": "5_direct_transfer.ipynb",
      "provenance": [],
      "machine_shape": "hm",
      "authorship_tag": "ABX9TyNfmG+9h7bB66Se0dqBvKJQ",
      "include_colab_link": true
    },
    "kernelspec": {
      "name": "python3",
      "display_name": "Python 3"
    },
    "language_info": {
      "name": "python"
    },
    "accelerator": "GPU",
    "widgets": {
      "application/vnd.jupyter.widget-state+json": {
        "0cb3b0cbe6ac4306b45d569b7cb6cc95": {
          "model_module": "@jupyter-widgets/controls",
          "model_name": "HBoxModel",
          "state": {
            "_view_name": "HBoxView",
            "_dom_classes": [],
            "_model_name": "HBoxModel",
            "_view_module": "@jupyter-widgets/controls",
            "_model_module_version": "1.5.0",
            "_view_count": null,
            "_view_module_version": "1.5.0",
            "box_style": "",
            "layout": "IPY_MODEL_3a40f8ef295f422f89b0210c4e6977ee",
            "_model_module": "@jupyter-widgets/controls",
            "children": [
              "IPY_MODEL_4fc94176202944fd9c3b2bc116d65314",
              "IPY_MODEL_d542641ff5bc4d7a8783fdd5d0a71bae"
            ]
          }
        },
        "3a40f8ef295f422f89b0210c4e6977ee": {
          "model_module": "@jupyter-widgets/base",
          "model_name": "LayoutModel",
          "state": {
            "_view_name": "LayoutView",
            "grid_template_rows": null,
            "right": null,
            "justify_content": null,
            "_view_module": "@jupyter-widgets/base",
            "overflow": null,
            "_model_module_version": "1.2.0",
            "_view_count": null,
            "flex_flow": null,
            "width": null,
            "min_width": null,
            "border": null,
            "align_items": null,
            "bottom": null,
            "_model_module": "@jupyter-widgets/base",
            "top": null,
            "grid_column": null,
            "overflow_y": null,
            "overflow_x": null,
            "grid_auto_flow": null,
            "grid_area": null,
            "grid_template_columns": null,
            "flex": null,
            "_model_name": "LayoutModel",
            "justify_items": null,
            "grid_row": null,
            "max_height": null,
            "align_content": null,
            "visibility": null,
            "align_self": null,
            "height": null,
            "min_height": null,
            "padding": null,
            "grid_auto_rows": null,
            "grid_gap": null,
            "max_width": null,
            "order": null,
            "_view_module_version": "1.2.0",
            "grid_template_areas": null,
            "object_position": null,
            "object_fit": null,
            "grid_auto_columns": null,
            "margin": null,
            "display": null,
            "left": null
          }
        },
        "4fc94176202944fd9c3b2bc116d65314": {
          "model_module": "@jupyter-widgets/controls",
          "model_name": "FloatProgressModel",
          "state": {
            "_view_name": "ProgressView",
            "style": "IPY_MODEL_c376fb2a966946749753efb0edf4fde4",
            "_dom_classes": [],
            "description": "Downloading: 100%",
            "_model_name": "FloatProgressModel",
            "bar_style": "success",
            "max": 231508,
            "_view_module": "@jupyter-widgets/controls",
            "_model_module_version": "1.5.0",
            "value": 231508,
            "_view_count": null,
            "_view_module_version": "1.5.0",
            "orientation": "horizontal",
            "min": 0,
            "description_tooltip": null,
            "_model_module": "@jupyter-widgets/controls",
            "layout": "IPY_MODEL_ae574faab7e34ce4837a1e2a6027567b"
          }
        },
        "d542641ff5bc4d7a8783fdd5d0a71bae": {
          "model_module": "@jupyter-widgets/controls",
          "model_name": "HTMLModel",
          "state": {
            "_view_name": "HTMLView",
            "style": "IPY_MODEL_10733f9052304b959b39d22a2495b490",
            "_dom_classes": [],
            "description": "",
            "_model_name": "HTMLModel",
            "placeholder": "​",
            "_view_module": "@jupyter-widgets/controls",
            "_model_module_version": "1.5.0",
            "value": " 232k/232k [00:02&lt;00:00, 94.3kB/s]",
            "_view_count": null,
            "_view_module_version": "1.5.0",
            "description_tooltip": null,
            "_model_module": "@jupyter-widgets/controls",
            "layout": "IPY_MODEL_871de14b017d43f89353a699f5cb1505"
          }
        },
        "c376fb2a966946749753efb0edf4fde4": {
          "model_module": "@jupyter-widgets/controls",
          "model_name": "ProgressStyleModel",
          "state": {
            "_view_name": "StyleView",
            "_model_name": "ProgressStyleModel",
            "description_width": "initial",
            "_view_module": "@jupyter-widgets/base",
            "_model_module_version": "1.5.0",
            "_view_count": null,
            "_view_module_version": "1.2.0",
            "bar_color": null,
            "_model_module": "@jupyter-widgets/controls"
          }
        },
        "ae574faab7e34ce4837a1e2a6027567b": {
          "model_module": "@jupyter-widgets/base",
          "model_name": "LayoutModel",
          "state": {
            "_view_name": "LayoutView",
            "grid_template_rows": null,
            "right": null,
            "justify_content": null,
            "_view_module": "@jupyter-widgets/base",
            "overflow": null,
            "_model_module_version": "1.2.0",
            "_view_count": null,
            "flex_flow": null,
            "width": null,
            "min_width": null,
            "border": null,
            "align_items": null,
            "bottom": null,
            "_model_module": "@jupyter-widgets/base",
            "top": null,
            "grid_column": null,
            "overflow_y": null,
            "overflow_x": null,
            "grid_auto_flow": null,
            "grid_area": null,
            "grid_template_columns": null,
            "flex": null,
            "_model_name": "LayoutModel",
            "justify_items": null,
            "grid_row": null,
            "max_height": null,
            "align_content": null,
            "visibility": null,
            "align_self": null,
            "height": null,
            "min_height": null,
            "padding": null,
            "grid_auto_rows": null,
            "grid_gap": null,
            "max_width": null,
            "order": null,
            "_view_module_version": "1.2.0",
            "grid_template_areas": null,
            "object_position": null,
            "object_fit": null,
            "grid_auto_columns": null,
            "margin": null,
            "display": null,
            "left": null
          }
        },
        "10733f9052304b959b39d22a2495b490": {
          "model_module": "@jupyter-widgets/controls",
          "model_name": "DescriptionStyleModel",
          "state": {
            "_view_name": "StyleView",
            "_model_name": "DescriptionStyleModel",
            "description_width": "",
            "_view_module": "@jupyter-widgets/base",
            "_model_module_version": "1.5.0",
            "_view_count": null,
            "_view_module_version": "1.2.0",
            "_model_module": "@jupyter-widgets/controls"
          }
        },
        "871de14b017d43f89353a699f5cb1505": {
          "model_module": "@jupyter-widgets/base",
          "model_name": "LayoutModel",
          "state": {
            "_view_name": "LayoutView",
            "grid_template_rows": null,
            "right": null,
            "justify_content": null,
            "_view_module": "@jupyter-widgets/base",
            "overflow": null,
            "_model_module_version": "1.2.0",
            "_view_count": null,
            "flex_flow": null,
            "width": null,
            "min_width": null,
            "border": null,
            "align_items": null,
            "bottom": null,
            "_model_module": "@jupyter-widgets/base",
            "top": null,
            "grid_column": null,
            "overflow_y": null,
            "overflow_x": null,
            "grid_auto_flow": null,
            "grid_area": null,
            "grid_template_columns": null,
            "flex": null,
            "_model_name": "LayoutModel",
            "justify_items": null,
            "grid_row": null,
            "max_height": null,
            "align_content": null,
            "visibility": null,
            "align_self": null,
            "height": null,
            "min_height": null,
            "padding": null,
            "grid_auto_rows": null,
            "grid_gap": null,
            "max_width": null,
            "order": null,
            "_view_module_version": "1.2.0",
            "grid_template_areas": null,
            "object_position": null,
            "object_fit": null,
            "grid_auto_columns": null,
            "margin": null,
            "display": null,
            "left": null
          }
        },
        "a96c0cbb60d145c5bb69058e4e968f4c": {
          "model_module": "@jupyter-widgets/controls",
          "model_name": "HBoxModel",
          "state": {
            "_view_name": "HBoxView",
            "_dom_classes": [],
            "_model_name": "HBoxModel",
            "_view_module": "@jupyter-widgets/controls",
            "_model_module_version": "1.5.0",
            "_view_count": null,
            "_view_module_version": "1.5.0",
            "box_style": "",
            "layout": "IPY_MODEL_b218a15e036b4e40a74a7433c4ede108",
            "_model_module": "@jupyter-widgets/controls",
            "children": [
              "IPY_MODEL_38c1d7aec5c240b58f844574aaf7bcbd",
              "IPY_MODEL_2f12140a8b6d430cab5eb051bf1a813a"
            ]
          }
        },
        "b218a15e036b4e40a74a7433c4ede108": {
          "model_module": "@jupyter-widgets/base",
          "model_name": "LayoutModel",
          "state": {
            "_view_name": "LayoutView",
            "grid_template_rows": null,
            "right": null,
            "justify_content": null,
            "_view_module": "@jupyter-widgets/base",
            "overflow": null,
            "_model_module_version": "1.2.0",
            "_view_count": null,
            "flex_flow": null,
            "width": null,
            "min_width": null,
            "border": null,
            "align_items": null,
            "bottom": null,
            "_model_module": "@jupyter-widgets/base",
            "top": null,
            "grid_column": null,
            "overflow_y": null,
            "overflow_x": null,
            "grid_auto_flow": null,
            "grid_area": null,
            "grid_template_columns": null,
            "flex": null,
            "_model_name": "LayoutModel",
            "justify_items": null,
            "grid_row": null,
            "max_height": null,
            "align_content": null,
            "visibility": null,
            "align_self": null,
            "height": null,
            "min_height": null,
            "padding": null,
            "grid_auto_rows": null,
            "grid_gap": null,
            "max_width": null,
            "order": null,
            "_view_module_version": "1.2.0",
            "grid_template_areas": null,
            "object_position": null,
            "object_fit": null,
            "grid_auto_columns": null,
            "margin": null,
            "display": null,
            "left": null
          }
        },
        "38c1d7aec5c240b58f844574aaf7bcbd": {
          "model_module": "@jupyter-widgets/controls",
          "model_name": "FloatProgressModel",
          "state": {
            "_view_name": "ProgressView",
            "style": "IPY_MODEL_57b90753a84946979c086a712cde0ea9",
            "_dom_classes": [],
            "description": "Downloading: 100%",
            "_model_name": "FloatProgressModel",
            "bar_style": "success",
            "max": 28,
            "_view_module": "@jupyter-widgets/controls",
            "_model_module_version": "1.5.0",
            "value": 28,
            "_view_count": null,
            "_view_module_version": "1.5.0",
            "orientation": "horizontal",
            "min": 0,
            "description_tooltip": null,
            "_model_module": "@jupyter-widgets/controls",
            "layout": "IPY_MODEL_26c3ab8ec77d4b5db106b81678a1707d"
          }
        },
        "2f12140a8b6d430cab5eb051bf1a813a": {
          "model_module": "@jupyter-widgets/controls",
          "model_name": "HTMLModel",
          "state": {
            "_view_name": "HTMLView",
            "style": "IPY_MODEL_f73ace3890724a4bb31d206cccc7bcc0",
            "_dom_classes": [],
            "description": "",
            "_model_name": "HTMLModel",
            "placeholder": "​",
            "_view_module": "@jupyter-widgets/controls",
            "_model_module_version": "1.5.0",
            "value": " 28.0/28.0 [00:01&lt;00:00, 27.3B/s]",
            "_view_count": null,
            "_view_module_version": "1.5.0",
            "description_tooltip": null,
            "_model_module": "@jupyter-widgets/controls",
            "layout": "IPY_MODEL_bde4ee0a17b54f72a8816931e4aa16c9"
          }
        },
        "57b90753a84946979c086a712cde0ea9": {
          "model_module": "@jupyter-widgets/controls",
          "model_name": "ProgressStyleModel",
          "state": {
            "_view_name": "StyleView",
            "_model_name": "ProgressStyleModel",
            "description_width": "initial",
            "_view_module": "@jupyter-widgets/base",
            "_model_module_version": "1.5.0",
            "_view_count": null,
            "_view_module_version": "1.2.0",
            "bar_color": null,
            "_model_module": "@jupyter-widgets/controls"
          }
        },
        "26c3ab8ec77d4b5db106b81678a1707d": {
          "model_module": "@jupyter-widgets/base",
          "model_name": "LayoutModel",
          "state": {
            "_view_name": "LayoutView",
            "grid_template_rows": null,
            "right": null,
            "justify_content": null,
            "_view_module": "@jupyter-widgets/base",
            "overflow": null,
            "_model_module_version": "1.2.0",
            "_view_count": null,
            "flex_flow": null,
            "width": null,
            "min_width": null,
            "border": null,
            "align_items": null,
            "bottom": null,
            "_model_module": "@jupyter-widgets/base",
            "top": null,
            "grid_column": null,
            "overflow_y": null,
            "overflow_x": null,
            "grid_auto_flow": null,
            "grid_area": null,
            "grid_template_columns": null,
            "flex": null,
            "_model_name": "LayoutModel",
            "justify_items": null,
            "grid_row": null,
            "max_height": null,
            "align_content": null,
            "visibility": null,
            "align_self": null,
            "height": null,
            "min_height": null,
            "padding": null,
            "grid_auto_rows": null,
            "grid_gap": null,
            "max_width": null,
            "order": null,
            "_view_module_version": "1.2.0",
            "grid_template_areas": null,
            "object_position": null,
            "object_fit": null,
            "grid_auto_columns": null,
            "margin": null,
            "display": null,
            "left": null
          }
        },
        "f73ace3890724a4bb31d206cccc7bcc0": {
          "model_module": "@jupyter-widgets/controls",
          "model_name": "DescriptionStyleModel",
          "state": {
            "_view_name": "StyleView",
            "_model_name": "DescriptionStyleModel",
            "description_width": "",
            "_view_module": "@jupyter-widgets/base",
            "_model_module_version": "1.5.0",
            "_view_count": null,
            "_view_module_version": "1.2.0",
            "_model_module": "@jupyter-widgets/controls"
          }
        },
        "bde4ee0a17b54f72a8816931e4aa16c9": {
          "model_module": "@jupyter-widgets/base",
          "model_name": "LayoutModel",
          "state": {
            "_view_name": "LayoutView",
            "grid_template_rows": null,
            "right": null,
            "justify_content": null,
            "_view_module": "@jupyter-widgets/base",
            "overflow": null,
            "_model_module_version": "1.2.0",
            "_view_count": null,
            "flex_flow": null,
            "width": null,
            "min_width": null,
            "border": null,
            "align_items": null,
            "bottom": null,
            "_model_module": "@jupyter-widgets/base",
            "top": null,
            "grid_column": null,
            "overflow_y": null,
            "overflow_x": null,
            "grid_auto_flow": null,
            "grid_area": null,
            "grid_template_columns": null,
            "flex": null,
            "_model_name": "LayoutModel",
            "justify_items": null,
            "grid_row": null,
            "max_height": null,
            "align_content": null,
            "visibility": null,
            "align_self": null,
            "height": null,
            "min_height": null,
            "padding": null,
            "grid_auto_rows": null,
            "grid_gap": null,
            "max_width": null,
            "order": null,
            "_view_module_version": "1.2.0",
            "grid_template_areas": null,
            "object_position": null,
            "object_fit": null,
            "grid_auto_columns": null,
            "margin": null,
            "display": null,
            "left": null
          }
        },
        "e09096bcc4744ae0b4bc7d814c4304b8": {
          "model_module": "@jupyter-widgets/controls",
          "model_name": "HBoxModel",
          "state": {
            "_view_name": "HBoxView",
            "_dom_classes": [],
            "_model_name": "HBoxModel",
            "_view_module": "@jupyter-widgets/controls",
            "_model_module_version": "1.5.0",
            "_view_count": null,
            "_view_module_version": "1.5.0",
            "box_style": "",
            "layout": "IPY_MODEL_a1ea33687baa455a90d97944ac9b3f6c",
            "_model_module": "@jupyter-widgets/controls",
            "children": [
              "IPY_MODEL_cc01843729ac46aa987858ff1c093949",
              "IPY_MODEL_85dc8b0b2f69472eaf8f1dc8abdbbc1c"
            ]
          }
        },
        "a1ea33687baa455a90d97944ac9b3f6c": {
          "model_module": "@jupyter-widgets/base",
          "model_name": "LayoutModel",
          "state": {
            "_view_name": "LayoutView",
            "grid_template_rows": null,
            "right": null,
            "justify_content": null,
            "_view_module": "@jupyter-widgets/base",
            "overflow": null,
            "_model_module_version": "1.2.0",
            "_view_count": null,
            "flex_flow": null,
            "width": null,
            "min_width": null,
            "border": null,
            "align_items": null,
            "bottom": null,
            "_model_module": "@jupyter-widgets/base",
            "top": null,
            "grid_column": null,
            "overflow_y": null,
            "overflow_x": null,
            "grid_auto_flow": null,
            "grid_area": null,
            "grid_template_columns": null,
            "flex": null,
            "_model_name": "LayoutModel",
            "justify_items": null,
            "grid_row": null,
            "max_height": null,
            "align_content": null,
            "visibility": null,
            "align_self": null,
            "height": null,
            "min_height": null,
            "padding": null,
            "grid_auto_rows": null,
            "grid_gap": null,
            "max_width": null,
            "order": null,
            "_view_module_version": "1.2.0",
            "grid_template_areas": null,
            "object_position": null,
            "object_fit": null,
            "grid_auto_columns": null,
            "margin": null,
            "display": null,
            "left": null
          }
        },
        "cc01843729ac46aa987858ff1c093949": {
          "model_module": "@jupyter-widgets/controls",
          "model_name": "FloatProgressModel",
          "state": {
            "_view_name": "ProgressView",
            "style": "IPY_MODEL_3d5121d9487a465d9be22ab889a153e1",
            "_dom_classes": [],
            "description": "Downloading: 100%",
            "_model_name": "FloatProgressModel",
            "bar_style": "success",
            "max": 466062,
            "_view_module": "@jupyter-widgets/controls",
            "_model_module_version": "1.5.0",
            "value": 466062,
            "_view_count": null,
            "_view_module_version": "1.5.0",
            "orientation": "horizontal",
            "min": 0,
            "description_tooltip": null,
            "_model_module": "@jupyter-widgets/controls",
            "layout": "IPY_MODEL_263b58448b2f499e96a9f485967d931e"
          }
        },
        "85dc8b0b2f69472eaf8f1dc8abdbbc1c": {
          "model_module": "@jupyter-widgets/controls",
          "model_name": "HTMLModel",
          "state": {
            "_view_name": "HTMLView",
            "style": "IPY_MODEL_b03dd146fd114eb7bc947b1fc496148f",
            "_dom_classes": [],
            "description": "",
            "_model_name": "HTMLModel",
            "placeholder": "​",
            "_view_module": "@jupyter-widgets/controls",
            "_model_module_version": "1.5.0",
            "value": " 466k/466k [00:00&lt;00:00, 1.04MB/s]",
            "_view_count": null,
            "_view_module_version": "1.5.0",
            "description_tooltip": null,
            "_model_module": "@jupyter-widgets/controls",
            "layout": "IPY_MODEL_053ffe042eeb408cbf04b4a2700e67a2"
          }
        },
        "3d5121d9487a465d9be22ab889a153e1": {
          "model_module": "@jupyter-widgets/controls",
          "model_name": "ProgressStyleModel",
          "state": {
            "_view_name": "StyleView",
            "_model_name": "ProgressStyleModel",
            "description_width": "initial",
            "_view_module": "@jupyter-widgets/base",
            "_model_module_version": "1.5.0",
            "_view_count": null,
            "_view_module_version": "1.2.0",
            "bar_color": null,
            "_model_module": "@jupyter-widgets/controls"
          }
        },
        "263b58448b2f499e96a9f485967d931e": {
          "model_module": "@jupyter-widgets/base",
          "model_name": "LayoutModel",
          "state": {
            "_view_name": "LayoutView",
            "grid_template_rows": null,
            "right": null,
            "justify_content": null,
            "_view_module": "@jupyter-widgets/base",
            "overflow": null,
            "_model_module_version": "1.2.0",
            "_view_count": null,
            "flex_flow": null,
            "width": null,
            "min_width": null,
            "border": null,
            "align_items": null,
            "bottom": null,
            "_model_module": "@jupyter-widgets/base",
            "top": null,
            "grid_column": null,
            "overflow_y": null,
            "overflow_x": null,
            "grid_auto_flow": null,
            "grid_area": null,
            "grid_template_columns": null,
            "flex": null,
            "_model_name": "LayoutModel",
            "justify_items": null,
            "grid_row": null,
            "max_height": null,
            "align_content": null,
            "visibility": null,
            "align_self": null,
            "height": null,
            "min_height": null,
            "padding": null,
            "grid_auto_rows": null,
            "grid_gap": null,
            "max_width": null,
            "order": null,
            "_view_module_version": "1.2.0",
            "grid_template_areas": null,
            "object_position": null,
            "object_fit": null,
            "grid_auto_columns": null,
            "margin": null,
            "display": null,
            "left": null
          }
        },
        "b03dd146fd114eb7bc947b1fc496148f": {
          "model_module": "@jupyter-widgets/controls",
          "model_name": "DescriptionStyleModel",
          "state": {
            "_view_name": "StyleView",
            "_model_name": "DescriptionStyleModel",
            "description_width": "",
            "_view_module": "@jupyter-widgets/base",
            "_model_module_version": "1.5.0",
            "_view_count": null,
            "_view_module_version": "1.2.0",
            "_model_module": "@jupyter-widgets/controls"
          }
        },
        "053ffe042eeb408cbf04b4a2700e67a2": {
          "model_module": "@jupyter-widgets/base",
          "model_name": "LayoutModel",
          "state": {
            "_view_name": "LayoutView",
            "grid_template_rows": null,
            "right": null,
            "justify_content": null,
            "_view_module": "@jupyter-widgets/base",
            "overflow": null,
            "_model_module_version": "1.2.0",
            "_view_count": null,
            "flex_flow": null,
            "width": null,
            "min_width": null,
            "border": null,
            "align_items": null,
            "bottom": null,
            "_model_module": "@jupyter-widgets/base",
            "top": null,
            "grid_column": null,
            "overflow_y": null,
            "overflow_x": null,
            "grid_auto_flow": null,
            "grid_area": null,
            "grid_template_columns": null,
            "flex": null,
            "_model_name": "LayoutModel",
            "justify_items": null,
            "grid_row": null,
            "max_height": null,
            "align_content": null,
            "visibility": null,
            "align_self": null,
            "height": null,
            "min_height": null,
            "padding": null,
            "grid_auto_rows": null,
            "grid_gap": null,
            "max_width": null,
            "order": null,
            "_view_module_version": "1.2.0",
            "grid_template_areas": null,
            "object_position": null,
            "object_fit": null,
            "grid_auto_columns": null,
            "margin": null,
            "display": null,
            "left": null
          }
        }
      }
    }
  },
  "cells": [
    {
      "cell_type": "markdown",
      "metadata": {
        "id": "view-in-github",
        "colab_type": "text"
      },
      "source": [
        "<a href=\"https://colab.research.google.com/github/fawazshah/Reddit-Analysis/blob/main/5_direct_transfer.ipynb\" target=\"_parent\"><img src=\"https://colab.research.google.com/assets/colab-badge.svg\" alt=\"Open In Colab\"/></a>"
      ]
    },
    {
      "cell_type": "code",
      "metadata": {
        "colab": {
          "base_uri": "https://localhost:8080/"
        },
        "id": "91kZ2LAThNyT",
        "outputId": "52df34f2-12cd-43b7-a8df-18447426890d"
      },
      "source": [
        "!pip install transformers"
      ],
      "execution_count": 1,
      "outputs": [
        {
          "output_type": "stream",
          "text": [
            "Collecting transformers\n",
            "\u001b[?25l  Downloading https://files.pythonhosted.org/packages/b0/9e/5b80becd952d5f7250eaf8fc64b957077b12ccfe73e9c03d37146ab29712/transformers-4.6.0-py3-none-any.whl (2.3MB)\n",
            "\r\u001b[K     |▏                               | 10kB 16.7MB/s eta 0:00:01\r\u001b[K     |▎                               | 20kB 21.9MB/s eta 0:00:01\r\u001b[K     |▍                               | 30kB 24.0MB/s eta 0:00:01\r\u001b[K     |▋                               | 40kB 23.5MB/s eta 0:00:01\r\u001b[K     |▊                               | 51kB 19.9MB/s eta 0:00:01\r\u001b[K     |▉                               | 61kB 22.3MB/s eta 0:00:01\r\u001b[K     |█                               | 71kB 17.0MB/s eta 0:00:01\r\u001b[K     |█▏                              | 81kB 16.0MB/s eta 0:00:01\r\u001b[K     |█▎                              | 92kB 16.6MB/s eta 0:00:01\r\u001b[K     |█▍                              | 102kB 17.7MB/s eta 0:00:01\r\u001b[K     |█▌                              | 112kB 17.7MB/s eta 0:00:01\r\u001b[K     |█▊                              | 122kB 17.7MB/s eta 0:00:01\r\u001b[K     |█▉                              | 133kB 17.7MB/s eta 0:00:01\r\u001b[K     |██                              | 143kB 17.7MB/s eta 0:00:01\r\u001b[K     |██                              | 153kB 17.7MB/s eta 0:00:01\r\u001b[K     |██▎                             | 163kB 17.7MB/s eta 0:00:01\r\u001b[K     |██▍                             | 174kB 17.7MB/s eta 0:00:01\r\u001b[K     |██▌                             | 184kB 17.7MB/s eta 0:00:01\r\u001b[K     |██▋                             | 194kB 17.7MB/s eta 0:00:01\r\u001b[K     |██▉                             | 204kB 17.7MB/s eta 0:00:01\r\u001b[K     |███                             | 215kB 17.7MB/s eta 0:00:01\r\u001b[K     |███                             | 225kB 17.7MB/s eta 0:00:01\r\u001b[K     |███▎                            | 235kB 17.7MB/s eta 0:00:01\r\u001b[K     |███▍                            | 245kB 17.7MB/s eta 0:00:01\r\u001b[K     |███▌                            | 256kB 17.7MB/s eta 0:00:01\r\u001b[K     |███▋                            | 266kB 17.7MB/s eta 0:00:01\r\u001b[K     |███▉                            | 276kB 17.7MB/s eta 0:00:01\r\u001b[K     |████                            | 286kB 17.7MB/s eta 0:00:01\r\u001b[K     |████                            | 296kB 17.7MB/s eta 0:00:01\r\u001b[K     |████▏                           | 307kB 17.7MB/s eta 0:00:01\r\u001b[K     |████▍                           | 317kB 17.7MB/s eta 0:00:01\r\u001b[K     |████▌                           | 327kB 17.7MB/s eta 0:00:01\r\u001b[K     |████▋                           | 337kB 17.7MB/s eta 0:00:01\r\u001b[K     |████▊                           | 348kB 17.7MB/s eta 0:00:01\r\u001b[K     |█████                           | 358kB 17.7MB/s eta 0:00:01\r\u001b[K     |█████                           | 368kB 17.7MB/s eta 0:00:01\r\u001b[K     |█████▏                          | 378kB 17.7MB/s eta 0:00:01\r\u001b[K     |█████▎                          | 389kB 17.7MB/s eta 0:00:01\r\u001b[K     |█████▌                          | 399kB 17.7MB/s eta 0:00:01\r\u001b[K     |█████▋                          | 409kB 17.7MB/s eta 0:00:01\r\u001b[K     |█████▊                          | 419kB 17.7MB/s eta 0:00:01\r\u001b[K     |██████                          | 430kB 17.7MB/s eta 0:00:01\r\u001b[K     |██████                          | 440kB 17.7MB/s eta 0:00:01\r\u001b[K     |██████▏                         | 450kB 17.7MB/s eta 0:00:01\r\u001b[K     |██████▎                         | 460kB 17.7MB/s eta 0:00:01\r\u001b[K     |██████▌                         | 471kB 17.7MB/s eta 0:00:01\r\u001b[K     |██████▋                         | 481kB 17.7MB/s eta 0:00:01\r\u001b[K     |██████▊                         | 491kB 17.7MB/s eta 0:00:01\r\u001b[K     |██████▉                         | 501kB 17.7MB/s eta 0:00:01\r\u001b[K     |███████                         | 512kB 17.7MB/s eta 0:00:01\r\u001b[K     |███████▏                        | 522kB 17.7MB/s eta 0:00:01\r\u001b[K     |███████▎                        | 532kB 17.7MB/s eta 0:00:01\r\u001b[K     |███████▍                        | 542kB 17.7MB/s eta 0:00:01\r\u001b[K     |███████▋                        | 552kB 17.7MB/s eta 0:00:01\r\u001b[K     |███████▊                        | 563kB 17.7MB/s eta 0:00:01\r\u001b[K     |███████▉                        | 573kB 17.7MB/s eta 0:00:01\r\u001b[K     |████████                        | 583kB 17.7MB/s eta 0:00:01\r\u001b[K     |████████▏                       | 593kB 17.7MB/s eta 0:00:01\r\u001b[K     |████████▎                       | 604kB 17.7MB/s eta 0:00:01\r\u001b[K     |████████▍                       | 614kB 17.7MB/s eta 0:00:01\r\u001b[K     |████████▋                       | 624kB 17.7MB/s eta 0:00:01\r\u001b[K     |████████▊                       | 634kB 17.7MB/s eta 0:00:01\r\u001b[K     |████████▉                       | 645kB 17.7MB/s eta 0:00:01\r\u001b[K     |█████████                       | 655kB 17.7MB/s eta 0:00:01\r\u001b[K     |█████████▏                      | 665kB 17.7MB/s eta 0:00:01\r\u001b[K     |█████████▎                      | 675kB 17.7MB/s eta 0:00:01\r\u001b[K     |█████████▍                      | 686kB 17.7MB/s eta 0:00:01\r\u001b[K     |█████████▌                      | 696kB 17.7MB/s eta 0:00:01\r\u001b[K     |█████████▊                      | 706kB 17.7MB/s eta 0:00:01\r\u001b[K     |█████████▉                      | 716kB 17.7MB/s eta 0:00:01\r\u001b[K     |██████████                      | 727kB 17.7MB/s eta 0:00:01\r\u001b[K     |██████████                      | 737kB 17.7MB/s eta 0:00:01\r\u001b[K     |██████████▎                     | 747kB 17.7MB/s eta 0:00:01\r\u001b[K     |██████████▍                     | 757kB 17.7MB/s eta 0:00:01\r\u001b[K     |██████████▌                     | 768kB 17.7MB/s eta 0:00:01\r\u001b[K     |██████████▋                     | 778kB 17.7MB/s eta 0:00:01\r\u001b[K     |██████████▉                     | 788kB 17.7MB/s eta 0:00:01\r\u001b[K     |███████████                     | 798kB 17.7MB/s eta 0:00:01\r\u001b[K     |███████████                     | 808kB 17.7MB/s eta 0:00:01\r\u001b[K     |███████████▎                    | 819kB 17.7MB/s eta 0:00:01\r\u001b[K     |███████████▍                    | 829kB 17.7MB/s eta 0:00:01\r\u001b[K     |███████████▌                    | 839kB 17.7MB/s eta 0:00:01\r\u001b[K     |███████████▋                    | 849kB 17.7MB/s eta 0:00:01\r\u001b[K     |███████████▉                    | 860kB 17.7MB/s eta 0:00:01\r\u001b[K     |████████████                    | 870kB 17.7MB/s eta 0:00:01\r\u001b[K     |████████████                    | 880kB 17.7MB/s eta 0:00:01\r\u001b[K     |████████████▏                   | 890kB 17.7MB/s eta 0:00:01\r\u001b[K     |████████████▍                   | 901kB 17.7MB/s eta 0:00:01\r\u001b[K     |████████████▌                   | 911kB 17.7MB/s eta 0:00:01\r\u001b[K     |████████████▋                   | 921kB 17.7MB/s eta 0:00:01\r\u001b[K     |████████████▊                   | 931kB 17.7MB/s eta 0:00:01\r\u001b[K     |█████████████                   | 942kB 17.7MB/s eta 0:00:01\r\u001b[K     |█████████████                   | 952kB 17.7MB/s eta 0:00:01\r\u001b[K     |█████████████▏                  | 962kB 17.7MB/s eta 0:00:01\r\u001b[K     |█████████████▎                  | 972kB 17.7MB/s eta 0:00:01\r\u001b[K     |█████████████▌                  | 983kB 17.7MB/s eta 0:00:01\r\u001b[K     |█████████████▋                  | 993kB 17.7MB/s eta 0:00:01\r\u001b[K     |█████████████▊                  | 1.0MB 17.7MB/s eta 0:00:01\r\u001b[K     |██████████████                  | 1.0MB 17.7MB/s eta 0:00:01\r\u001b[K     |██████████████                  | 1.0MB 17.7MB/s eta 0:00:01\r\u001b[K     |██████████████▏                 | 1.0MB 17.7MB/s eta 0:00:01\r\u001b[K     |██████████████▎                 | 1.0MB 17.7MB/s eta 0:00:01\r\u001b[K     |██████████████▌                 | 1.1MB 17.7MB/s eta 0:00:01\r\u001b[K     |██████████████▋                 | 1.1MB 17.7MB/s eta 0:00:01\r\u001b[K     |██████████████▊                 | 1.1MB 17.7MB/s eta 0:00:01\r\u001b[K     |██████████████▉                 | 1.1MB 17.7MB/s eta 0:00:01\r\u001b[K     |███████████████                 | 1.1MB 17.7MB/s eta 0:00:01\r\u001b[K     |███████████████▏                | 1.1MB 17.7MB/s eta 0:00:01\r\u001b[K     |███████████████▎                | 1.1MB 17.7MB/s eta 0:00:01\r\u001b[K     |███████████████▍                | 1.1MB 17.7MB/s eta 0:00:01\r\u001b[K     |███████████████▋                | 1.1MB 17.7MB/s eta 0:00:01\r\u001b[K     |███████████████▊                | 1.1MB 17.7MB/s eta 0:00:01\r\u001b[K     |███████████████▉                | 1.2MB 17.7MB/s eta 0:00:01\r\u001b[K     |████████████████                | 1.2MB 17.7MB/s eta 0:00:01\r\u001b[K     |████████████████▏               | 1.2MB 17.7MB/s eta 0:00:01\r\u001b[K     |████████████████▎               | 1.2MB 17.7MB/s eta 0:00:01\r\u001b[K     |████████████████▍               | 1.2MB 17.7MB/s eta 0:00:01\r\u001b[K     |████████████████▋               | 1.2MB 17.7MB/s eta 0:00:01\r\u001b[K     |████████████████▊               | 1.2MB 17.7MB/s eta 0:00:01\r\u001b[K     |████████████████▉               | 1.2MB 17.7MB/s eta 0:00:01\r\u001b[K     |█████████████████               | 1.2MB 17.7MB/s eta 0:00:01\r\u001b[K     |█████████████████▏              | 1.2MB 17.7MB/s eta 0:00:01\r\u001b[K     |█████████████████▎              | 1.3MB 17.7MB/s eta 0:00:01\r\u001b[K     |█████████████████▍              | 1.3MB 17.7MB/s eta 0:00:01\r\u001b[K     |█████████████████▌              | 1.3MB 17.7MB/s eta 0:00:01\r\u001b[K     |█████████████████▊              | 1.3MB 17.7MB/s eta 0:00:01\r\u001b[K     |█████████████████▉              | 1.3MB 17.7MB/s eta 0:00:01\r\u001b[K     |██████████████████              | 1.3MB 17.7MB/s eta 0:00:01\r\u001b[K     |██████████████████              | 1.3MB 17.7MB/s eta 0:00:01\r\u001b[K     |██████████████████▎             | 1.3MB 17.7MB/s eta 0:00:01\r\u001b[K     |██████████████████▍             | 1.3MB 17.7MB/s eta 0:00:01\r\u001b[K     |██████████████████▌             | 1.4MB 17.7MB/s eta 0:00:01\r\u001b[K     |██████████████████▋             | 1.4MB 17.7MB/s eta 0:00:01\r\u001b[K     |██████████████████▉             | 1.4MB 17.7MB/s eta 0:00:01\r\u001b[K     |███████████████████             | 1.4MB 17.7MB/s eta 0:00:01\r\u001b[K     |███████████████████             | 1.4MB 17.7MB/s eta 0:00:01\r\u001b[K     |███████████████████▎            | 1.4MB 17.7MB/s eta 0:00:01\r\u001b[K     |███████████████████▍            | 1.4MB 17.7MB/s eta 0:00:01\r\u001b[K     |███████████████████▌            | 1.4MB 17.7MB/s eta 0:00:01\r\u001b[K     |███████████████████▋            | 1.4MB 17.7MB/s eta 0:00:01\r\u001b[K     |███████████████████▉            | 1.4MB 17.7MB/s eta 0:00:01\r\u001b[K     |████████████████████            | 1.5MB 17.7MB/s eta 0:00:01\r\u001b[K     |████████████████████            | 1.5MB 17.7MB/s eta 0:00:01\r\u001b[K     |████████████████████▏           | 1.5MB 17.7MB/s eta 0:00:01\r\u001b[K     |████████████████████▍           | 1.5MB 17.7MB/s eta 0:00:01\r\u001b[K     |████████████████████▌           | 1.5MB 17.7MB/s eta 0:00:01\r\u001b[K     |████████████████████▋           | 1.5MB 17.7MB/s eta 0:00:01\r\u001b[K     |████████████████████▊           | 1.5MB 17.7MB/s eta 0:00:01\r\u001b[K     |█████████████████████           | 1.5MB 17.7MB/s eta 0:00:01\r\u001b[K     |█████████████████████           | 1.5MB 17.7MB/s eta 0:00:01\r\u001b[K     |█████████████████████▏          | 1.5MB 17.7MB/s eta 0:00:01\r\u001b[K     |█████████████████████▎          | 1.6MB 17.7MB/s eta 0:00:01\r\u001b[K     |█████████████████████▌          | 1.6MB 17.7MB/s eta 0:00:01\r\u001b[K     |█████████████████████▋          | 1.6MB 17.7MB/s eta 0:00:01\r\u001b[K     |█████████████████████▊          | 1.6MB 17.7MB/s eta 0:00:01\r\u001b[K     |█████████████████████▉          | 1.6MB 17.7MB/s eta 0:00:01\r\u001b[K     |██████████████████████          | 1.6MB 17.7MB/s eta 0:00:01\r\u001b[K     |██████████████████████▏         | 1.6MB 17.7MB/s eta 0:00:01\r\u001b[K     |██████████████████████▎         | 1.6MB 17.7MB/s eta 0:00:01\r\u001b[K     |██████████████████████▌         | 1.6MB 17.7MB/s eta 0:00:01\r\u001b[K     |██████████████████████▋         | 1.6MB 17.7MB/s eta 0:00:01\r\u001b[K     |██████████████████████▊         | 1.7MB 17.7MB/s eta 0:00:01\r\u001b[K     |██████████████████████▉         | 1.7MB 17.7MB/s eta 0:00:01\r\u001b[K     |███████████████████████         | 1.7MB 17.7MB/s eta 0:00:01\r\u001b[K     |███████████████████████▏        | 1.7MB 17.7MB/s eta 0:00:01\r\u001b[K     |███████████████████████▎        | 1.7MB 17.7MB/s eta 0:00:01\r\u001b[K     |███████████████████████▍        | 1.7MB 17.7MB/s eta 0:00:01\r\u001b[K     |███████████████████████▋        | 1.7MB 17.7MB/s eta 0:00:01\r\u001b[K     |███████████████████████▊        | 1.7MB 17.7MB/s eta 0:00:01\r\u001b[K     |███████████████████████▉        | 1.7MB 17.7MB/s eta 0:00:01\r\u001b[K     |████████████████████████        | 1.8MB 17.7MB/s eta 0:00:01\r\u001b[K     |████████████████████████▏       | 1.8MB 17.7MB/s eta 0:00:01\r\u001b[K     |████████████████████████▎       | 1.8MB 17.7MB/s eta 0:00:01\r\u001b[K     |████████████████████████▍       | 1.8MB 17.7MB/s eta 0:00:01\r\u001b[K     |████████████████████████▌       | 1.8MB 17.7MB/s eta 0:00:01\r\u001b[K     |████████████████████████▊       | 1.8MB 17.7MB/s eta 0:00:01\r\u001b[K     |████████████████████████▉       | 1.8MB 17.7MB/s eta 0:00:01\r\u001b[K     |█████████████████████████       | 1.8MB 17.7MB/s eta 0:00:01\r\u001b[K     |█████████████████████████▏      | 1.8MB 17.7MB/s eta 0:00:01\r\u001b[K     |█████████████████████████▎      | 1.8MB 17.7MB/s eta 0:00:01\r\u001b[K     |█████████████████████████▍      | 1.9MB 17.7MB/s eta 0:00:01\r\u001b[K     |█████████████████████████▌      | 1.9MB 17.7MB/s eta 0:00:01\r\u001b[K     |█████████████████████████▊      | 1.9MB 17.7MB/s eta 0:00:01\r\u001b[K     |█████████████████████████▉      | 1.9MB 17.7MB/s eta 0:00:01\r\u001b[K     |██████████████████████████      | 1.9MB 17.7MB/s eta 0:00:01\r\u001b[K     |██████████████████████████      | 1.9MB 17.7MB/s eta 0:00:01\r\u001b[K     |██████████████████████████▎     | 1.9MB 17.7MB/s eta 0:00:01\r\u001b[K     |██████████████████████████▍     | 1.9MB 17.7MB/s eta 0:00:01\r\u001b[K     |██████████████████████████▌     | 1.9MB 17.7MB/s eta 0:00:01\r\u001b[K     |██████████████████████████▋     | 1.9MB 17.7MB/s eta 0:00:01\r\u001b[K     |██████████████████████████▉     | 2.0MB 17.7MB/s eta 0:00:01\r\u001b[K     |███████████████████████████     | 2.0MB 17.7MB/s eta 0:00:01\r\u001b[K     |███████████████████████████     | 2.0MB 17.7MB/s eta 0:00:01\r\u001b[K     |███████████████████████████▏    | 2.0MB 17.7MB/s eta 0:00:01\r\u001b[K     |███████████████████████████▍    | 2.0MB 17.7MB/s eta 0:00:01\r\u001b[K     |███████████████████████████▌    | 2.0MB 17.7MB/s eta 0:00:01\r\u001b[K     |███████████████████████████▋    | 2.0MB 17.7MB/s eta 0:00:01\r\u001b[K     |███████████████████████████▉    | 2.0MB 17.7MB/s eta 0:00:01\r\u001b[K     |████████████████████████████    | 2.0MB 17.7MB/s eta 0:00:01\r\u001b[K     |████████████████████████████    | 2.0MB 17.7MB/s eta 0:00:01\r\u001b[K     |████████████████████████████▏   | 2.1MB 17.7MB/s eta 0:00:01\r\u001b[K     |████████████████████████████▍   | 2.1MB 17.7MB/s eta 0:00:01\r\u001b[K     |████████████████████████████▌   | 2.1MB 17.7MB/s eta 0:00:01\r\u001b[K     |████████████████████████████▋   | 2.1MB 17.7MB/s eta 0:00:01\r\u001b[K     |████████████████████████████▊   | 2.1MB 17.7MB/s eta 0:00:01\r\u001b[K     |█████████████████████████████   | 2.1MB 17.7MB/s eta 0:00:01\r\u001b[K     |█████████████████████████████   | 2.1MB 17.7MB/s eta 0:00:01\r\u001b[K     |█████████████████████████████▏  | 2.1MB 17.7MB/s eta 0:00:01\r\u001b[K     |█████████████████████████████▎  | 2.1MB 17.7MB/s eta 0:00:01\r\u001b[K     |█████████████████████████████▌  | 2.2MB 17.7MB/s eta 0:00:01\r\u001b[K     |█████████████████████████████▋  | 2.2MB 17.7MB/s eta 0:00:01\r\u001b[K     |█████████████████████████████▊  | 2.2MB 17.7MB/s eta 0:00:01\r\u001b[K     |█████████████████████████████▉  | 2.2MB 17.7MB/s eta 0:00:01\r\u001b[K     |██████████████████████████████  | 2.2MB 17.7MB/s eta 0:00:01\r\u001b[K     |██████████████████████████████▏ | 2.2MB 17.7MB/s eta 0:00:01\r\u001b[K     |██████████████████████████████▎ | 2.2MB 17.7MB/s eta 0:00:01\r\u001b[K     |██████████████████████████████▌ | 2.2MB 17.7MB/s eta 0:00:01\r\u001b[K     |██████████████████████████████▋ | 2.2MB 17.7MB/s eta 0:00:01\r\u001b[K     |██████████████████████████████▊ | 2.2MB 17.7MB/s eta 0:00:01\r\u001b[K     |██████████████████████████████▉ | 2.3MB 17.7MB/s eta 0:00:01\r\u001b[K     |███████████████████████████████ | 2.3MB 17.7MB/s eta 0:00:01\r\u001b[K     |███████████████████████████████▏| 2.3MB 17.7MB/s eta 0:00:01\r\u001b[K     |███████████████████████████████▎| 2.3MB 17.7MB/s eta 0:00:01\r\u001b[K     |███████████████████████████████▍| 2.3MB 17.7MB/s eta 0:00:01\r\u001b[K     |███████████████████████████████▋| 2.3MB 17.7MB/s eta 0:00:01\r\u001b[K     |███████████████████████████████▊| 2.3MB 17.7MB/s eta 0:00:01\r\u001b[K     |███████████████████████████████▉| 2.3MB 17.7MB/s eta 0:00:01\r\u001b[K     |████████████████████████████████| 2.3MB 17.7MB/s eta 0:00:01\r\u001b[K     |████████████████████████████████| 2.3MB 17.7MB/s \n",
            "\u001b[?25hRequirement already satisfied: importlib-metadata; python_version < \"3.8\" in /usr/local/lib/python3.7/dist-packages (from transformers) (4.0.1)\n",
            "Collecting tokenizers<0.11,>=0.10.1\n",
            "\u001b[?25l  Downloading https://files.pythonhosted.org/packages/ae/04/5b870f26a858552025a62f1649c20d29d2672c02ff3c3fb4c688ca46467a/tokenizers-0.10.2-cp37-cp37m-manylinux2010_x86_64.whl (3.3MB)\n",
            "\u001b[K     |████████████████████████████████| 3.3MB 49.6MB/s \n",
            "\u001b[?25hRequirement already satisfied: numpy>=1.17 in /usr/local/lib/python3.7/dist-packages (from transformers) (1.19.5)\n",
            "Collecting sacremoses\n",
            "\u001b[?25l  Downloading https://files.pythonhosted.org/packages/75/ee/67241dc87f266093c533a2d4d3d69438e57d7a90abb216fa076e7d475d4a/sacremoses-0.0.45-py3-none-any.whl (895kB)\n",
            "\u001b[K     |████████████████████████████████| 901kB 47.7MB/s \n",
            "\u001b[?25hRequirement already satisfied: requests in /usr/local/lib/python3.7/dist-packages (from transformers) (2.23.0)\n",
            "Requirement already satisfied: regex!=2019.12.17 in /usr/local/lib/python3.7/dist-packages (from transformers) (2019.12.20)\n",
            "Requirement already satisfied: packaging in /usr/local/lib/python3.7/dist-packages (from transformers) (20.9)\n",
            "Requirement already satisfied: tqdm>=4.27 in /usr/local/lib/python3.7/dist-packages (from transformers) (4.41.1)\n",
            "Collecting huggingface-hub==0.0.8\n",
            "  Downloading https://files.pythonhosted.org/packages/a1/88/7b1e45720ecf59c6c6737ff332f41c955963090a18e72acbcbeac6b25e86/huggingface_hub-0.0.8-py3-none-any.whl\n",
            "Requirement already satisfied: filelock in /usr/local/lib/python3.7/dist-packages (from transformers) (3.0.12)\n",
            "Requirement already satisfied: typing-extensions>=3.6.4; python_version < \"3.8\" in /usr/local/lib/python3.7/dist-packages (from importlib-metadata; python_version < \"3.8\"->transformers) (3.7.4.3)\n",
            "Requirement already satisfied: zipp>=0.5 in /usr/local/lib/python3.7/dist-packages (from importlib-metadata; python_version < \"3.8\"->transformers) (3.4.1)\n",
            "Requirement already satisfied: click in /usr/local/lib/python3.7/dist-packages (from sacremoses->transformers) (7.1.2)\n",
            "Requirement already satisfied: joblib in /usr/local/lib/python3.7/dist-packages (from sacremoses->transformers) (1.0.1)\n",
            "Requirement already satisfied: six in /usr/local/lib/python3.7/dist-packages (from sacremoses->transformers) (1.15.0)\n",
            "Requirement already satisfied: chardet<4,>=3.0.2 in /usr/local/lib/python3.7/dist-packages (from requests->transformers) (3.0.4)\n",
            "Requirement already satisfied: idna<3,>=2.5 in /usr/local/lib/python3.7/dist-packages (from requests->transformers) (2.10)\n",
            "Requirement already satisfied: certifi>=2017.4.17 in /usr/local/lib/python3.7/dist-packages (from requests->transformers) (2020.12.5)\n",
            "Requirement already satisfied: urllib3!=1.25.0,!=1.25.1,<1.26,>=1.21.1 in /usr/local/lib/python3.7/dist-packages (from requests->transformers) (1.24.3)\n",
            "Requirement already satisfied: pyparsing>=2.0.2 in /usr/local/lib/python3.7/dist-packages (from packaging->transformers) (2.4.7)\n",
            "Installing collected packages: tokenizers, sacremoses, huggingface-hub, transformers\n",
            "Successfully installed huggingface-hub-0.0.8 sacremoses-0.0.45 tokenizers-0.10.2 transformers-4.6.0\n"
          ],
          "name": "stdout"
        }
      ]
    },
    {
      "cell_type": "code",
      "metadata": {
        "id": "_MYNYLDSz3nw"
      },
      "source": [
        "import numpy as np\n",
        "import pandas as pd\n",
        "import random\n",
        "import requests\n",
        "from sklearn.metrics import f1_score, accuracy_score, classification_report\n",
        "import time\n",
        "import transformers\n",
        "from transformers import BertTokenizer, BertForSequenceClassification, AdamW, get_linear_schedule_with_warmup\n",
        "import torch\n",
        "import torch.nn as nn\n",
        "from torch.utils.data import Dataset, TensorDataset, DataLoader, RandomSampler, SequentialSampler\n",
        "import transformers"
      ],
      "execution_count": 2,
      "outputs": []
    },
    {
      "cell_type": "code",
      "metadata": {
        "id": "6dGmQ_vZhc7u"
      },
      "source": [
        "# Setting random seed and device\n",
        "SEED = 42\n",
        "\n",
        "random.seed(SEED)\n",
        "np.random.seed(SEED)\n",
        "torch.manual_seed(SEED)\n",
        "torch.cuda.manual_seed(SEED)\n",
        "torch.backends.cudnn.deterministic = True\n",
        "\n",
        "use_cuda = torch.cuda.is_available()\n",
        "device = torch.device(\"cuda:0\" if use_cuda else \"cpu\")"
      ],
      "execution_count": 3,
      "outputs": []
    },
    {
      "cell_type": "markdown",
      "metadata": {
        "id": "qYWywz7Ghdc7"
      },
      "source": [
        "### BERT setup"
      ]
    },
    {
      "cell_type": "code",
      "metadata": {
        "id": "Om4XGy9Ehg1l"
      },
      "source": [
        "loss_fn = nn.CrossEntropyLoss()\n",
        "loss_fn = loss_fn.to(device)"
      ],
      "execution_count": 4,
      "outputs": []
    },
    {
      "cell_type": "code",
      "metadata": {
        "colab": {
          "base_uri": "https://localhost:8080/",
          "height": 164,
          "referenced_widgets": [
            "0cb3b0cbe6ac4306b45d569b7cb6cc95",
            "3a40f8ef295f422f89b0210c4e6977ee",
            "4fc94176202944fd9c3b2bc116d65314",
            "d542641ff5bc4d7a8783fdd5d0a71bae",
            "c376fb2a966946749753efb0edf4fde4",
            "ae574faab7e34ce4837a1e2a6027567b",
            "10733f9052304b959b39d22a2495b490",
            "871de14b017d43f89353a699f5cb1505",
            "a96c0cbb60d145c5bb69058e4e968f4c",
            "b218a15e036b4e40a74a7433c4ede108",
            "38c1d7aec5c240b58f844574aaf7bcbd",
            "2f12140a8b6d430cab5eb051bf1a813a",
            "57b90753a84946979c086a712cde0ea9",
            "26c3ab8ec77d4b5db106b81678a1707d",
            "f73ace3890724a4bb31d206cccc7bcc0",
            "bde4ee0a17b54f72a8816931e4aa16c9",
            "e09096bcc4744ae0b4bc7d814c4304b8",
            "a1ea33687baa455a90d97944ac9b3f6c",
            "cc01843729ac46aa987858ff1c093949",
            "85dc8b0b2f69472eaf8f1dc8abdbbc1c",
            "3d5121d9487a465d9be22ab889a153e1",
            "263b58448b2f499e96a9f485967d931e",
            "b03dd146fd114eb7bc947b1fc496148f",
            "053ffe042eeb408cbf04b4a2700e67a2"
          ]
        },
        "id": "PupORWmFhhLN",
        "outputId": "95ed55ce-047f-4370-b357-19d07b2b0fa6"
      },
      "source": [
        "tokenizer = BertTokenizer.from_pretrained('bert-base-uncased')"
      ],
      "execution_count": 5,
      "outputs": [
        {
          "output_type": "display_data",
          "data": {
            "application/vnd.jupyter.widget-view+json": {
              "model_id": "0cb3b0cbe6ac4306b45d569b7cb6cc95",
              "version_minor": 0,
              "version_major": 2
            },
            "text/plain": [
              "HBox(children=(FloatProgress(value=0.0, description='Downloading', max=231508.0, style=ProgressStyle(descripti…"
            ]
          },
          "metadata": {
            "tags": []
          }
        },
        {
          "output_type": "stream",
          "text": [
            "\n"
          ],
          "name": "stdout"
        },
        {
          "output_type": "display_data",
          "data": {
            "application/vnd.jupyter.widget-view+json": {
              "model_id": "a96c0cbb60d145c5bb69058e4e968f4c",
              "version_minor": 0,
              "version_major": 2
            },
            "text/plain": [
              "HBox(children=(FloatProgress(value=0.0, description='Downloading', max=28.0, style=ProgressStyle(description_w…"
            ]
          },
          "metadata": {
            "tags": []
          }
        },
        {
          "output_type": "stream",
          "text": [
            "\n"
          ],
          "name": "stdout"
        },
        {
          "output_type": "display_data",
          "data": {
            "application/vnd.jupyter.widget-view+json": {
              "model_id": "e09096bcc4744ae0b4bc7d814c4304b8",
              "version_minor": 0,
              "version_major": 2
            },
            "text/plain": [
              "HBox(children=(FloatProgress(value=0.0, description='Downloading', max=466062.0, style=ProgressStyle(descripti…"
            ]
          },
          "metadata": {
            "tags": []
          }
        },
        {
          "output_type": "stream",
          "text": [
            "\n"
          ],
          "name": "stdout"
        }
      ]
    },
    {
      "cell_type": "code",
      "metadata": {
        "id": "ODYBT_D-hkCF"
      },
      "source": [
        "# Compute the length of the longest sentence in particular column out of\n",
        "# all train, val and test data\n",
        "def compute_max_length(df, bert_input_func):\n",
        "\n",
        "  sentences = bert_input_func(df)\n",
        "\n",
        "  max_len = 0\n",
        "\n",
        "  for sent in sentences:\n",
        "\n",
        "      # Tokenize the text and add `[CLS]` and `[SEP]` tokens.\n",
        "      input_ids = tokenizer.encode(sent, add_special_tokens=True)\n",
        "\n",
        "      # Update the maximum sentence length.\n",
        "      max_len = max(max_len, len(input_ids))\n",
        "\n",
        "  return max_len"
      ],
      "execution_count": 6,
      "outputs": []
    },
    {
      "cell_type": "code",
      "metadata": {
        "id": "NnaBAsRehouy"
      },
      "source": [
        "def compute_sentences_article_body(df):\n",
        "    return list(df['article body'])\n",
        "\n",
        "def compute_sentences_comment_body(df):\n",
        "    return list(df['comment body'])"
      ],
      "execution_count": 7,
      "outputs": []
    },
    {
      "cell_type": "code",
      "metadata": {
        "id": "YVLj7g6-l7O4"
      },
      "source": [
        "def create_bert_dataset(df, bert_input_func, max_sequence_len):\n",
        "    # Returns a TensorDataset of sequences extracted from df\n",
        "\n",
        "    token_ids = []\n",
        "    token_type_ids = [] # segment ids \n",
        "    attention_masks = []\n",
        "\n",
        "    sentences = bert_input_func(df)\n",
        "\n",
        "    for sent in sentences:\n",
        "        encoding_dict = tokenizer(sent,\n",
        "                                  add_special_tokens=True,\n",
        "                                  max_length=max_sequence_len,\n",
        "                                  padding='max_length',\n",
        "                                  truncation=True,\n",
        "                                  return_token_type_ids = True,\n",
        "                                  return_attention_mask = True,\n",
        "                                  return_tensors = 'pt'\n",
        "                                  )\n",
        "        token_ids.append(encoding_dict['input_ids'])\n",
        "        token_type_ids.append(encoding_dict['token_type_ids'])\n",
        "        attention_masks.append(encoding_dict['attention_mask'])\n",
        "    \n",
        "    token_ids = torch.cat(token_ids, dim=0)\n",
        "    token_type_ids = torch.cat(token_type_ids, dim=0)\n",
        "    attention_masks = torch.cat(attention_masks, dim=0)\n",
        "    labels = torch.tensor(df['bias'].values)\n",
        "    \n",
        "    return TensorDataset(token_ids, token_type_ids, attention_masks, labels)"
      ],
      "execution_count": 8,
      "outputs": []
    },
    {
      "cell_type": "code",
      "metadata": {
        "id": "wIZt1ovhl8gs"
      },
      "source": [
        "def train_BERT(train_dataloader, val_dataloader, model, number_epoch):\n",
        "\n",
        "    train_loss = []\n",
        "    valid_loss = []\n",
        "\n",
        "    optimizer = AdamW(model.parameters(),\n",
        "                    lr = 2e-5, \n",
        "                    eps = 1e-8 \n",
        "                )\n",
        "\n",
        "    # Create the learning rate scheduler.\n",
        "    total_steps = len(train_dataloader) * number_epoch\n",
        "    scheduler = get_linear_schedule_with_warmup(optimizer, num_warmup_steps=0, \n",
        "                                                num_training_steps=total_steps)\n",
        "\n",
        "    for epoch in range(1, number_epoch+1):\n",
        "\n",
        "        # TRAINING\n",
        "\n",
        "        time0 = time.time()\n",
        "\n",
        "        model.train()\n",
        "\n",
        "        epoch_train_loss = 0\n",
        "        no_observations = 0\n",
        "        epoch_train_predictions = []\n",
        "        epoch_train_labels = []\n",
        "\n",
        "        for batch in train_dataloader:\n",
        "\n",
        "            # Each batch contains token ids, token type ids, attention masks and labels\n",
        "            b_token_ids = batch[0].to(device)\n",
        "            b_token_type_ids = batch[1].to(device)\n",
        "            b_attention_masks = batch[2].to(device)\n",
        "            b_labels = batch[3].to(device)\n",
        "\n",
        "            no_observations = no_observations + b_labels.shape[0]\n",
        "            \n",
        "            output = model(b_token_ids, \n",
        "                    token_type_ids=b_token_type_ids, \n",
        "                    attention_mask=b_attention_masks, \n",
        "                    labels=b_labels)\n",
        "\n",
        "            model.zero_grad()\n",
        "\n",
        "            loss = output.loss\n",
        "            logits = output.logits\n",
        "\n",
        "            predictions = np.argmax(logits.detach().cpu().numpy(), axis=1)\n",
        "            labels = b_labels.detach().cpu().numpy()\n",
        "            epoch_train_predictions.extend(predictions)\n",
        "            epoch_train_labels.extend(labels)\n",
        "\n",
        "            loss.backward()\n",
        "            # Clip the norm of the gradients to 1 to prevent exploding gradients\n",
        "            torch.nn.utils.clip_grad_norm_(model.parameters(), 1.0)\n",
        "            optimizer.step() \n",
        "\n",
        "            # Update the learning rate using the scheduler\n",
        "            scheduler.step()  \n",
        "\n",
        "            epoch_train_loss += loss.item()*b_labels.shape[0]\n",
        "\n",
        "        epoch_train_loss, epoch_train_acc = epoch_train_loss / no_observations, accuracy_score(epoch_train_labels, epoch_train_predictions)\n",
        "\n",
        "        # VALIDATION\n",
        "\n",
        "        epoch_valid_loss, epoch_val_predictions, epoch_val_labels = evaluate_BERT(val_dataloader, model)\n",
        "        epoch_valid_acc = accuracy_score(epoch_val_labels, epoch_val_predictions)\n",
        "\n",
        "        # FINALLY\n",
        "\n",
        "        print(f\"Epoch took: {time.time() - time0}\")\n",
        "\n",
        "        print(f'| Epoch: {epoch:02} | Train Loss: {epoch_train_loss:.2f} | Train Accuracy: {epoch_train_acc:.2f} | \\\n",
        "        Val. Loss: {epoch_valid_loss:.2f} | Val. Accuracy: {epoch_valid_acc:.2f} |')\n",
        "\n",
        "        train_loss.append(epoch_train_loss)\n",
        "        valid_loss.append(epoch_valid_loss)\n",
        "    \n",
        "    return train_loss, valid_loss"
      ],
      "execution_count": 9,
      "outputs": []
    },
    {
      "cell_type": "code",
      "metadata": {
        "id": "JXUmDxCEl-oY"
      },
      "source": [
        "def evaluate_BERT(test_dataloader, model):\n",
        "\n",
        "    model.eval()\n",
        "    total_loss = 0\n",
        "    no_observations = 0\n",
        "    predictions_all = []\n",
        "    labels_all = []\n",
        "\n",
        "    with torch.no_grad():\n",
        "        for batch in test_dataloader:\n",
        "            b_token_ids = batch[0].to(device)\n",
        "            b_token_type_ids = batch[1].to(device)\n",
        "            b_attention_masks = batch[2].to(device)\n",
        "            b_labels = batch[3].to(device)\n",
        "\n",
        "            no_observations += b_labels.shape[0]\n",
        "            output = model(b_token_ids, token_type_ids=b_token_type_ids, \n",
        "                                        attention_mask=b_attention_masks)\n",
        "            logits = output.logits\n",
        "            loss = loss_fn(logits, b_labels)\n",
        "\n",
        "            predictions = np.argmax(logits.detach().cpu().numpy(), axis=1)\n",
        "            labels = b_labels.detach().cpu().numpy()\n",
        "            predictions_all.extend(predictions)\n",
        "            labels_all.extend(labels)\n",
        "\n",
        "            total_loss += loss.item()*b_labels.shape[0]\n",
        "    \n",
        "    return total_loss / no_observations, predictions_all, labels_all"
      ],
      "execution_count": 10,
      "outputs": []
    },
    {
      "cell_type": "markdown",
      "metadata": {
        "id": "imTptCu8ZTQc"
      },
      "source": [
        "### Article body -> comments"
      ]
    },
    {
      "cell_type": "markdown",
      "metadata": {
        "id": "ABBttHU80AyR"
      },
      "source": [
        "#### Loading data"
      ]
    },
    {
      "cell_type": "code",
      "metadata": {
        "id": "rAFuwYtc0Ewr"
      },
      "source": [
        "submissions_url = 'https://raw.githubusercontent.com/fawazshah/Reddit-Analysis/master/data/collated-data/submissions_preprocessed.tsv'\n",
        "submissions_df = pd.read_csv(submissions_url, sep='\\t')\n",
        "\n",
        "comments_url = 'https://raw.githubusercontent.com/fawazshah/Reddit-Analysis/master/data/collated-data/comments_preprocessed.tsv'\n",
        "comments_df = pd.read_csv(comments_url, sep='\\t')"
      ],
      "execution_count": 11,
      "outputs": []
    },
    {
      "cell_type": "code",
      "metadata": {
        "colab": {
          "base_uri": "https://localhost:8080/"
        },
        "id": "RnI9nKnd0GTu",
        "outputId": "8a8fda8e-60d6-45f9-edbd-8754b56bf04a"
      },
      "source": [
        "print(f\"No. submissions: {len(submissions_df)}\")\n",
        "print(f\"No. comments: {len(comments_df)}\")"
      ],
      "execution_count": 12,
      "outputs": [
        {
          "output_type": "stream",
          "text": [
            "No. submissions: 806\n",
            "No. comments: 11923\n"
          ],
          "name": "stdout"
        }
      ]
    },
    {
      "cell_type": "markdown",
      "metadata": {
        "id": "FpYGMib_rdRw"
      },
      "source": [
        "#### One hot encode labels"
      ]
    },
    {
      "cell_type": "code",
      "metadata": {
        "id": "KM5LgLVrrj67"
      },
      "source": [
        "# left == 0\n",
        "# right == 1\n",
        "\n",
        "def encode_labels(label):\n",
        "    if label == \"left\":\n",
        "        return 0\n",
        "    else:\n",
        "        return 1\n",
        "\n",
        "submissions_df['bias'] = submissions_df['bias'].apply(encode_labels)\n",
        "comments_df['bias'] = comments_df['bias'].apply(encode_labels)"
      ],
      "execution_count": 13,
      "outputs": []
    },
    {
      "cell_type": "markdown",
      "metadata": {
        "id": "8vEbHBzSfbMk"
      },
      "source": [
        "#### Split data into train/val/test"
      ]
    },
    {
      "cell_type": "code",
      "metadata": {
        "id": "q8myfRK95Dh9"
      },
      "source": [
        "# Train/val/test split\n",
        "\n",
        "TRAIN = 0.7\n",
        "VAL = 0.1\n",
        "TEST = 0.2"
      ],
      "execution_count": 14,
      "outputs": []
    },
    {
      "cell_type": "code",
      "metadata": {
        "id": "QbgYYN43ficb"
      },
      "source": [
        "split_point_1 = int(TRAIN*len(submissions_df))\n",
        "split_point_2 = int((TRAIN+VAL)*len(submissions_df))\n",
        "\n",
        "submissions_train_df = submissions_df.iloc[:split_point_1].copy()\n",
        "submissions_val_df = submissions_df.iloc[split_point_1:split_point_2].copy()\n",
        "submissions_test_df = submissions_df.iloc[split_point_2:].copy()"
      ],
      "execution_count": 15,
      "outputs": []
    },
    {
      "cell_type": "code",
      "metadata": {
        "colab": {
          "base_uri": "https://localhost:8080/"
        },
        "id": "IScJW1Tbf2-R",
        "outputId": "3a397f3b-af80-40aa-b1ce-1f75e43442d2"
      },
      "source": [
        "print(f\"Size of training set: {len(submissions_train_df)}\")\n",
        "print(f\"Size of validation set: {len(submissions_val_df)}\")\n",
        "print(f\"Size of test set: {len(submissions_test_df)}\")"
      ],
      "execution_count": 16,
      "outputs": [
        {
          "output_type": "stream",
          "text": [
            "Size of training set: 564\n",
            "Size of validation set: 80\n",
            "Size of test set: 162\n"
          ],
          "name": "stdout"
        }
      ]
    },
    {
      "cell_type": "markdown",
      "metadata": {
        "id": "G_GyU8XqmR0c"
      },
      "source": [
        "#### Create BERT dataloaders"
      ]
    },
    {
      "cell_type": "code",
      "metadata": {
        "id": "RSekzkAXf5VK"
      },
      "source": [
        "dataloaders = {}\n",
        "BATCH_SIZE = 10"
      ],
      "execution_count": 17,
      "outputs": []
    },
    {
      "cell_type": "code",
      "metadata": {
        "id": "fEdV5-w5mVoh"
      },
      "source": [
        "# Using no folds\n",
        "dataloaders['article bodies'] = {}\n",
        "train_dataset = create_bert_dataset(submissions_train_df, compute_sentences_article_body, 512)\n",
        "dataloaders['article bodies']['train'] = DataLoader(train_dataset, sampler=RandomSampler(train_dataset), batch_size=BATCH_SIZE)\n",
        "val_dataset = create_bert_dataset(submissions_val_df, compute_sentences_article_body, 512)\n",
        "dataloaders['article bodies']['val'] = DataLoader(val_dataset, sampler=RandomSampler(val_dataset), batch_size=BATCH_SIZE)\n",
        "test_dataset = create_bert_dataset(submissions_test_df, compute_sentences_article_body, 512)\n",
        "dataloaders['article bodies']['test'] = DataLoader(test_dataset, sampler=RandomSampler(test_dataset), batch_size=BATCH_SIZE)"
      ],
      "execution_count": 18,
      "outputs": []
    },
    {
      "cell_type": "code",
      "metadata": {
        "id": "pPSiBWRgq1sj"
      },
      "source": [
        "comment_dataset = create_bert_dataset(comments_df, compute_sentences_comment_body, 512)\n",
        "dataloaders['comment bodies'] = DataLoader(comment_dataset, sampler = RandomSampler(comment_dataset), batch_size=BATCH_SIZE)"
      ],
      "execution_count": 19,
      "outputs": []
    },
    {
      "cell_type": "markdown",
      "metadata": {
        "id": "bBZc3wmPCalo"
      },
      "source": [
        "#### Run BERT models"
      ]
    },
    {
      "cell_type": "code",
      "metadata": {
        "id": "Abau8yBniPJ8"
      },
      "source": [
        "NUM_EPOCHS = 5"
      ],
      "execution_count": 25,
      "outputs": []
    },
    {
      "cell_type": "code",
      "metadata": {
        "colab": {
          "base_uri": "https://localhost:8080/"
        },
        "id": "rHGHaLwfC_VJ",
        "outputId": "f129d494-db44-4283-f933-10500841aefd"
      },
      "source": [
        "# Train and test on article bodies\n",
        "\n",
        "model = BertForSequenceClassification.from_pretrained(\n",
        "    'bert-base-uncased',\n",
        "    num_labels=2,\n",
        "    output_attentions = False,\n",
        "    output_hidden_states = False,\n",
        ")\n",
        "model.cuda()\n",
        "\n",
        "# Train model on article bodies\n",
        "train_dataloader = dataloaders['article bodies']['train']\n",
        "val_dataloader = dataloaders['article bodies']['val']\n",
        "train_loss, valid_loss = train_BERT(train_dataloader, val_dataloader, model, NUM_EPOCHS)\n",
        "\n",
        "# Test on article bodies\n",
        "_, predictions, labels = evaluate_BERT(dataloaders['article bodies']['test'], model)\n",
        "\n",
        "print(classification_report(labels, predictions))"
      ],
      "execution_count": 26,
      "outputs": [
        {
          "output_type": "stream",
          "text": [
            "Some weights of the model checkpoint at bert-base-uncased were not used when initializing BertForSequenceClassification: ['cls.predictions.decoder.weight', 'cls.predictions.transform.dense.bias', 'cls.seq_relationship.weight', 'cls.predictions.transform.LayerNorm.bias', 'cls.predictions.transform.LayerNorm.weight', 'cls.predictions.bias', 'cls.seq_relationship.bias', 'cls.predictions.transform.dense.weight']\n",
            "- This IS expected if you are initializing BertForSequenceClassification from the checkpoint of a model trained on another task or with another architecture (e.g. initializing a BertForSequenceClassification model from a BertForPreTraining model).\n",
            "- This IS NOT expected if you are initializing BertForSequenceClassification from the checkpoint of a model that you expect to be exactly identical (initializing a BertForSequenceClassification model from a BertForSequenceClassification model).\n",
            "Some weights of BertForSequenceClassification were not initialized from the model checkpoint at bert-base-uncased and are newly initialized: ['classifier.weight', 'classifier.bias']\n",
            "You should probably TRAIN this model on a down-stream task to be able to use it for predictions and inference.\n"
          ],
          "name": "stderr"
        },
        {
          "output_type": "stream",
          "text": [
            "Epoch took: 18.762444019317627\n",
            "| Epoch: 01 | Train Loss: 0.65 | Train Accuracy: 0.65 |         Val. Loss: 1.03 | Val. Accuracy: 0.11 |\n",
            "Epoch took: 18.72123646736145\n",
            "| Epoch: 02 | Train Loss: 0.62 | Train Accuracy: 0.69 |         Val. Loss: 1.13 | Val. Accuracy: 0.15 |\n",
            "Epoch took: 18.73897385597229\n",
            "| Epoch: 03 | Train Loss: 0.62 | Train Accuracy: 0.69 |         Val. Loss: 0.97 | Val. Accuracy: 0.20 |\n",
            "Epoch took: 18.76615595817566\n",
            "| Epoch: 04 | Train Loss: 0.57 | Train Accuracy: 0.72 |         Val. Loss: 1.11 | Val. Accuracy: 0.26 |\n",
            "Epoch took: 18.7835431098938\n",
            "| Epoch: 05 | Train Loss: 0.49 | Train Accuracy: 0.79 |         Val. Loss: 0.95 | Val. Accuracy: 0.41 |\n",
            "              precision    recall  f1-score   support\n",
            "\n",
            "           0       0.34      0.60      0.43        45\n",
            "           1       0.78      0.55      0.64       117\n",
            "\n",
            "    accuracy                           0.56       162\n",
            "   macro avg       0.56      0.57      0.54       162\n",
            "weighted avg       0.66      0.56      0.58       162\n",
            "\n"
          ],
          "name": "stdout"
        }
      ]
    },
    {
      "cell_type": "code",
      "metadata": {
        "colab": {
          "base_uri": "https://localhost:8080/"
        },
        "id": "ozZ4yW3ED1b6",
        "outputId": "0240fbf0-0468-4c6d-a37e-3309557ae1df"
      },
      "source": [
        "# Infer on comments\n",
        "\n",
        "_, predictions, labels = evaluate_BERT(dataloaders['comment bodies'], model)\n",
        "print(classification_report(labels, predictions))"
      ],
      "execution_count": 27,
      "outputs": [
        {
          "output_type": "stream",
          "text": [
            "              precision    recall  f1-score   support\n",
            "\n",
            "           0       0.57      0.19      0.29      5960\n",
            "           1       0.51      0.86      0.64      5963\n",
            "\n",
            "    accuracy                           0.52     11923\n",
            "   macro avg       0.54      0.52      0.46     11923\n",
            "weighted avg       0.54      0.52      0.46     11923\n",
            "\n"
          ],
          "name": "stdout"
        }
      ]
    },
    {
      "cell_type": "code",
      "metadata": {
        "id": "fGMbWyOle2bb"
      },
      "source": [
        ""
      ],
      "execution_count": null,
      "outputs": []
    }
  ]
}